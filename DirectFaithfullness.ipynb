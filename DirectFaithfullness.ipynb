{
 "cells": [
  {
   "cell_type": "code",
   "execution_count": 14,
   "metadata": {},
   "outputs": [],
   "source": [
    "import sympy as sp\n",
    "from sympy.matrices import Matrix \n",
    "from sympy.matrices import eye"
   ]
  },
  {
   "cell_type": "code",
   "execution_count": 11,
   "metadata": {},
   "outputs": [],
   "source": [
    "a,b,c = sp.symbols(\"a b c\")\n",
    "sigma1,sigma2,sigma3 = sp.symbols(\"\\sigma_1 \\sigma_2 \\sigma_3\")"
   ]
  },
  {
   "cell_type": "code",
   "execution_count": 12,
   "metadata": {},
   "outputs": [],
   "source": [
    "A = Matrix([\n",
    "                        [0,0,0],\n",
    "                        [a,0,0],\n",
    "                        [b,c,0]\n",
    "                       ])\n",
    "D = Matrix([\n",
    "                        [sigma1,0,0],\n",
    "                        [0,sigma2,0],\n",
    "                        [0,0,sigma3]\n",
    "                       ])"
   ]
  },
  {
   "cell_type": "code",
   "execution_count": 15,
   "metadata": {},
   "outputs": [],
   "source": [
    "B = (eye(3)-A)**(-1)\n",
    "S = B*D*B.T"
   ]
  },
  {
   "cell_type": "code",
   "execution_count": 18,
   "metadata": {},
   "outputs": [
    {
     "data": {
      "text/latex": [
       "$\\displaystyle \\left[\\begin{matrix}1 & 0 & 0\\\\a & 1 & 0\\\\a c + b & c & 1\\end{matrix}\\right]$"
      ],
      "text/plain": [
       "Matrix([\n",
       "[      1, 0, 0],\n",
       "[      a, 1, 0],\n",
       "[a*c + b, c, 1]])"
      ]
     },
     "execution_count": 18,
     "metadata": {},
     "output_type": "execute_result"
    }
   ],
   "source": [
    "B"
   ]
  },
  {
   "cell_type": "code",
   "execution_count": 16,
   "metadata": {},
   "outputs": [
    {
     "data": {
      "text/latex": [
       "$\\displaystyle \\left[\\begin{matrix}\\sigma_1 & \\sigma_1 a & \\sigma_1 \\left(a c + b\\right)\\\\\\sigma_1 a & \\sigma_1 a^{2} + \\sigma_2 & \\sigma_1 a \\left(a c + b\\right) + \\sigma_2 c\\\\\\sigma_1 \\left(a c + b\\right) & \\sigma_1 a \\left(a c + b\\right) + \\sigma_2 c & \\sigma_1 \\left(a c + b\\right)^{2} + \\sigma_2 c^{2} + \\sigma_3\\end{matrix}\\right]$"
      ],
      "text/plain": [
       "Matrix([\n",
       "[          \\sigma_1,                        \\sigma_1*a,                               \\sigma_1*(a*c + b)],\n",
       "[        \\sigma_1*a,          \\sigma_1*a**2 + \\sigma_2,                \\sigma_1*a*(a*c + b) + \\sigma_2*c],\n",
       "[\\sigma_1*(a*c + b), \\sigma_1*a*(a*c + b) + \\sigma_2*c, \\sigma_1*(a*c + b)**2 + \\sigma_2*c**2 + \\sigma_3]])"
      ]
     },
     "execution_count": 16,
     "metadata": {},
     "output_type": "execute_result"
    }
   ],
   "source": [
    "S"
   ]
  },
  {
   "cell_type": "markdown",
   "metadata": {},
   "source": [
    "## X3|X1,X2"
   ]
  },
  {
   "cell_type": "code",
   "execution_count": 34,
   "metadata": {},
   "outputs": [
    {
     "name": "stdout",
     "output_type": "stream",
     "text": [
      "Var(x3|x2,x1) =  Matrix([[\\sigma_3]])\n"
     ]
    }
   ],
   "source": [
    "s3given12 = Matrix([S[2,2]]) - S[2,0:2]*(S[0:2,0:2]**(-1))*S[0:2,2]\n",
    "s3given12.simplify()\n",
    "print(\"Var(x3|x2,x1) = \",s3given12)"
   ]
  },
  {
   "cell_type": "code",
   "execution_count": 35,
   "metadata": {},
   "outputs": [
    {
     "data": {
      "text/latex": [
       "$\\displaystyle \\left[\\begin{matrix}\\sigma_3\\end{matrix}\\right]$"
      ],
      "text/plain": [
       "Matrix([[\\sigma_3]])"
      ]
     },
     "execution_count": 35,
     "metadata": {},
     "output_type": "execute_result"
    }
   ],
   "source": [
    "s3given12"
   ]
  },
  {
   "cell_type": "markdown",
   "metadata": {},
   "source": [
    "## X2|X1,X3"
   ]
  },
  {
   "cell_type": "code",
   "execution_count": 37,
   "metadata": {},
   "outputs": [
    {
     "name": "stdout",
     "output_type": "stream",
     "text": [
      "Var(x3|x2,x1) =  Matrix([[\\sigma_2*\\sigma_3/(\\sigma_2*c**2 + \\sigma_3)]])\n"
     ]
    }
   ],
   "source": [
    "s2given13 = Matrix([S[1,1]]) - S[1,[0,2]]*(S[[0,2],[0,2]]**(-1))*S[[0,2],1]\n",
    "s2given13.simplify()\n",
    "print(\"Var(x3|x2,x1) = \",s2given13)"
   ]
  },
  {
   "cell_type": "code",
   "execution_count": 38,
   "metadata": {},
   "outputs": [
    {
     "data": {
      "text/latex": [
       "$\\displaystyle \\left[\\begin{matrix}\\frac{\\sigma_2 \\sigma_3}{\\sigma_2 c^{2} + \\sigma_3}\\end{matrix}\\right]$"
      ],
      "text/plain": [
       "Matrix([[\\sigma_2*\\sigma_3/(\\sigma_2*c**2 + \\sigma_3)]])"
      ]
     },
     "execution_count": 38,
     "metadata": {},
     "output_type": "execute_result"
    }
   ],
   "source": [
    "s2given13"
   ]
  },
  {
   "cell_type": "code",
   "execution_count": null,
   "metadata": {},
   "outputs": [],
   "source": []
  }
 ],
 "metadata": {
  "kernelspec": {
   "display_name": "Python 3",
   "language": "python",
   "name": "python3"
  },
  "language_info": {
   "codemirror_mode": {
    "name": "ipython",
    "version": 3
   },
   "file_extension": ".py",
   "mimetype": "text/x-python",
   "name": "python",
   "nbconvert_exporter": "python",
   "pygments_lexer": "ipython3",
   "version": "3.7.4"
  }
 },
 "nbformat": 4,
 "nbformat_minor": 2
}
