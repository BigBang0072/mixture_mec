{
 "cells": [
  {
   "cell_type": "code",
   "execution_count": 1,
   "id": "dff0bd44",
   "metadata": {},
   "outputs": [],
   "source": [
    "import glob\n",
    "import matplotlib.pyplot as plt\n",
    "import numpy as np\n",
    "import pandas as pd\n",
    "import json"
   ]
  },
  {
   "cell_type": "code",
   "execution_count": 5,
   "id": "5b92fee3",
   "metadata": {},
   "outputs": [],
   "source": [
    "def collect_experiment_to_df(fpath=\"expt_logs/\"):\n",
    "    #Reading all the experiments file\n",
    "    expt_fname_list = glob.glob(fpath+\"*.json\")\n",
    "    \n",
    "    #Now we will create a dataframe out of it\n",
    "    expt_metric_list = []\n",
    "    for fname in expt_fname_list:\n",
    "        #Loading the experiment json file\n",
    "        with open(fname) as f:\n",
    "            expt_json = json.load(f)\n",
    "        \n",
    "        #Next we will load the necessary metrics from json for analysis\n",
    "        expt_metric_dict = dict(\n",
    "                    num_nodes = expt_json[\"expt_args\"][\"num_nodes\"],\n",
    "                    num_samples = expt_json[\"expt_args\"][\"mix_samples\"],\n",
    "                    param_est_rel_err = expt_json[\"metric_dict\"][\"param_est_rel_err\"],\n",
    "                    shd = expt_json[\"metric_dict\"][\"shd\"],\n",
    "                    avg_js = expt_json[\"metric_dict\"][\"avg_js\"],\n",
    "                    \n",
    "        )\n",
    "        expt_metric_list.append(expt_metric_dict)\n",
    "    \n",
    "    #Now we will create a dataframe out of it\n",
    "    expt_df = pd.DataFrame(expt_metric_list)\n",
    "    return expt_df\n",
    "\n",
    "\n",
    "def merge_df_multiple_expt(expt_fname_list):\n",
    "    all_expt_df = []\n",
    "    for expt_fname in expt_fname_list:\n",
    "        expt_df = collect_experiment_to_df(fpath=expt_fname)\n",
    "        all_expt_df.append(expt_df)\n",
    "    #Concatenating all the df\n",
    "    all_expt_df = pd.concat(all_expt_df,ignore_index=True,sort=False)\n",
    "    return all_expt_df"
   ]
  },
  {
   "cell_type": "markdown",
   "id": "72be0963",
   "metadata": {},
   "source": [
    "## Plot utilities"
   ]
  },
  {
   "cell_type": "code",
   "execution_count": 6,
   "id": "4276a92f",
   "metadata": {},
   "outputs": [],
   "source": [
    "#Defining the custom percentile function\n",
    "def quantile25(x):\n",
    "    return x.quantile(0.25)\n",
    "def quantile75(x):\n",
    "    return x.quantile(0.75)"
   ]
  },
  {
   "cell_type": "code",
   "execution_count": 25,
   "id": "e5386fce",
   "metadata": {
    "scrolled": false
   },
   "outputs": [
    {
     "ename": "ValueError",
     "evalue": "'yerr' (shape: (10,)) must be a scalar or a 1D or (2, n) array-like whose shape matches 'y' (shape: (8,))",
     "output_type": "error",
     "traceback": [
      "\u001b[0;31m---------------------------------------------------------------------------\u001b[0m",
      "\u001b[0;31mValueError\u001b[0m                                Traceback (most recent call last)",
      "Cell \u001b[0;32mIn[25], line 51\u001b[0m\n\u001b[1;32m     44\u001b[0m q25_75 \u001b[38;5;241m=\u001b[39m [\n\u001b[1;32m     45\u001b[0m             low_yerr,\u001b[38;5;241m*\u001b[39m(low_yerr\u001b[38;5;241m>\u001b[39m\u001b[38;5;241m=\u001b[39m\u001b[38;5;241m0\u001b[39m), \u001b[38;5;66;03m#mean should have been above 25 and below 75, something might be wrong\u001b[39;00m\n\u001b[1;32m     46\u001b[0m             high_yerr\u001b[38;5;241m*\u001b[39m(high_yerr\u001b[38;5;241m>\u001b[39m\u001b[38;5;241m=\u001b[39m\u001b[38;5;241m0\u001b[39m)\n\u001b[1;32m     47\u001b[0m ]\n\u001b[1;32m     50\u001b[0m \u001b[38;5;66;03m#ax[midx].plot(range(len(sample_size)),metric_mean,)\u001b[39;00m\n\u001b[0;32m---> 51\u001b[0m \u001b[43max\u001b[49m\u001b[43m[\u001b[49m\u001b[43mmidx\u001b[49m\u001b[43m]\u001b[49m\u001b[38;5;241;43m.\u001b[39;49m\u001b[43merrorbar\u001b[49m\u001b[43m(\u001b[49m\u001b[38;5;28;43mrange\u001b[39;49m\u001b[43m(\u001b[49m\u001b[38;5;28;43mlen\u001b[39;49m\u001b[43m(\u001b[49m\u001b[43msample_size\u001b[49m\u001b[43m)\u001b[49m\u001b[43m)\u001b[49m\u001b[43m,\u001b[49m\n\u001b[1;32m     52\u001b[0m \u001b[43m                      \u001b[49m\u001b[43mmetric_mean\u001b[49m\u001b[43m,\u001b[49m\n\u001b[1;32m     53\u001b[0m \u001b[43m                      \u001b[49m\u001b[43myerr\u001b[49m\u001b[38;5;241;43m=\u001b[39;49m\u001b[43mq25_75\u001b[49m\u001b[43m,\u001b[49m\n\u001b[1;32m     54\u001b[0m \u001b[43m                      \u001b[49m\u001b[43mcapsize\u001b[49m\u001b[38;5;241;43m=\u001b[39;49m\u001b[38;5;241;43m3\u001b[39;49m\u001b[43m,\u001b[49m\n\u001b[1;32m     55\u001b[0m \u001b[43m                      \u001b[49m\u001b[43mecolor\u001b[49m\u001b[43m \u001b[49m\u001b[38;5;241;43m=\u001b[39;49m\u001b[43m \u001b[49m\u001b[38;5;124;43m\"\u001b[39;49m\u001b[38;5;124;43mblack\u001b[39;49m\u001b[38;5;124;43m\"\u001b[39;49m\u001b[43m,\u001b[49m\n\u001b[1;32m     56\u001b[0m \u001b[43m                      \u001b[49m\u001b[43mfmt\u001b[49m\u001b[38;5;241;43m=\u001b[39;49m\u001b[38;5;124;43m\"\u001b[39;49m\u001b[38;5;124;43m-o\u001b[39;49m\u001b[38;5;124;43m\"\u001b[39;49m\u001b[43m,\u001b[49m\n\u001b[1;32m     57\u001b[0m \u001b[43m                      \u001b[49m\u001b[43mlabel\u001b[49m\u001b[38;5;241;43m=\u001b[39;49m\u001b[38;5;124;43m\"\u001b[39;49m\u001b[38;5;124;43mnum_nodes=\u001b[39;49m\u001b[38;5;132;43;01m{}\u001b[39;49;00m\u001b[38;5;124;43m\"\u001b[39;49m\u001b[38;5;241;43m.\u001b[39;49m\u001b[43mformat\u001b[49m\u001b[43m(\u001b[49m\u001b[43mnum_node\u001b[49m\u001b[43m)\u001b[49m\n\u001b[1;32m     58\u001b[0m \u001b[43m\u001b[49m\u001b[43m)\u001b[49m\n\u001b[1;32m     60\u001b[0m ax[midx]\u001b[38;5;241m.\u001b[39mset_title(\u001b[38;5;124m\"\u001b[39m\u001b[38;5;124mMetric = \u001b[39m\u001b[38;5;132;01m{}\u001b[39;00m\u001b[38;5;124m\"\u001b[39m\u001b[38;5;241m.\u001b[39mformat(metric))\n\u001b[1;32m     61\u001b[0m ax[midx]\u001b[38;5;241m.\u001b[39mset_ylabel(metric)\n",
      "File \u001b[0;32m~/anaconda3/envs/mixture/lib/python3.9/site-packages/matplotlib/__init__.py:1465\u001b[0m, in \u001b[0;36m_preprocess_data.<locals>.inner\u001b[0;34m(ax, data, *args, **kwargs)\u001b[0m\n\u001b[1;32m   1462\u001b[0m \u001b[38;5;129m@functools\u001b[39m\u001b[38;5;241m.\u001b[39mwraps(func)\n\u001b[1;32m   1463\u001b[0m \u001b[38;5;28;01mdef\u001b[39;00m \u001b[38;5;21minner\u001b[39m(ax, \u001b[38;5;241m*\u001b[39margs, data\u001b[38;5;241m=\u001b[39m\u001b[38;5;28;01mNone\u001b[39;00m, \u001b[38;5;241m*\u001b[39m\u001b[38;5;241m*\u001b[39mkwargs):\n\u001b[1;32m   1464\u001b[0m     \u001b[38;5;28;01mif\u001b[39;00m data \u001b[38;5;129;01mis\u001b[39;00m \u001b[38;5;28;01mNone\u001b[39;00m:\n\u001b[0;32m-> 1465\u001b[0m         \u001b[38;5;28;01mreturn\u001b[39;00m \u001b[43mfunc\u001b[49m\u001b[43m(\u001b[49m\u001b[43max\u001b[49m\u001b[43m,\u001b[49m\u001b[43m \u001b[49m\u001b[38;5;241;43m*\u001b[39;49m\u001b[38;5;28;43mmap\u001b[39;49m\u001b[43m(\u001b[49m\u001b[43msanitize_sequence\u001b[49m\u001b[43m,\u001b[49m\u001b[43m \u001b[49m\u001b[43margs\u001b[49m\u001b[43m)\u001b[49m\u001b[43m,\u001b[49m\u001b[43m \u001b[49m\u001b[38;5;241;43m*\u001b[39;49m\u001b[38;5;241;43m*\u001b[39;49m\u001b[43mkwargs\u001b[49m\u001b[43m)\u001b[49m\n\u001b[1;32m   1467\u001b[0m     bound \u001b[38;5;241m=\u001b[39m new_sig\u001b[38;5;241m.\u001b[39mbind(ax, \u001b[38;5;241m*\u001b[39margs, \u001b[38;5;241m*\u001b[39m\u001b[38;5;241m*\u001b[39mkwargs)\n\u001b[1;32m   1468\u001b[0m     auto_label \u001b[38;5;241m=\u001b[39m (bound\u001b[38;5;241m.\u001b[39marguments\u001b[38;5;241m.\u001b[39mget(label_namer)\n\u001b[1;32m   1469\u001b[0m                   \u001b[38;5;129;01mor\u001b[39;00m bound\u001b[38;5;241m.\u001b[39mkwargs\u001b[38;5;241m.\u001b[39mget(label_namer))\n",
      "File \u001b[0;32m~/anaconda3/envs/mixture/lib/python3.9/site-packages/matplotlib/axes/_axes.py:3670\u001b[0m, in \u001b[0;36mAxes.errorbar\u001b[0;34m(self, x, y, yerr, xerr, fmt, ecolor, elinewidth, capsize, barsabove, lolims, uplims, xlolims, xuplims, errorevery, capthick, **kwargs)\u001b[0m\n\u001b[1;32m   3668\u001b[0m     np\u001b[38;5;241m.\u001b[39mbroadcast_to(err, (\u001b[38;5;241m2\u001b[39m, \u001b[38;5;28mlen\u001b[39m(dep)))\n\u001b[1;32m   3669\u001b[0m \u001b[38;5;28;01mexcept\u001b[39;00m \u001b[38;5;167;01mValueError\u001b[39;00m:\n\u001b[0;32m-> 3670\u001b[0m     \u001b[38;5;28;01mraise\u001b[39;00m \u001b[38;5;167;01mValueError\u001b[39;00m(\n\u001b[1;32m   3671\u001b[0m         \u001b[38;5;124mf\u001b[39m\u001b[38;5;124m\"\u001b[39m\u001b[38;5;124m'\u001b[39m\u001b[38;5;132;01m{\u001b[39;00mdep_axis\u001b[38;5;132;01m}\u001b[39;00m\u001b[38;5;124merr\u001b[39m\u001b[38;5;124m'\u001b[39m\u001b[38;5;124m (shape: \u001b[39m\u001b[38;5;132;01m{\u001b[39;00mnp\u001b[38;5;241m.\u001b[39mshape(err)\u001b[38;5;132;01m}\u001b[39;00m\u001b[38;5;124m) must be a \u001b[39m\u001b[38;5;124m\"\u001b[39m\n\u001b[1;32m   3672\u001b[0m         \u001b[38;5;124mf\u001b[39m\u001b[38;5;124m\"\u001b[39m\u001b[38;5;124mscalar or a 1D or (2, n) array-like whose shape matches \u001b[39m\u001b[38;5;124m\"\u001b[39m\n\u001b[1;32m   3673\u001b[0m         \u001b[38;5;124mf\u001b[39m\u001b[38;5;124m\"\u001b[39m\u001b[38;5;124m'\u001b[39m\u001b[38;5;132;01m{\u001b[39;00mdep_axis\u001b[38;5;132;01m}\u001b[39;00m\u001b[38;5;124m'\u001b[39m\u001b[38;5;124m (shape: \u001b[39m\u001b[38;5;132;01m{\u001b[39;00mnp\u001b[38;5;241m.\u001b[39mshape(dep)\u001b[38;5;132;01m}\u001b[39;00m\u001b[38;5;124m)\u001b[39m\u001b[38;5;124m\"\u001b[39m) \u001b[38;5;28;01mfrom\u001b[39;00m \u001b[38;5;28;01mNone\u001b[39;00m\n\u001b[1;32m   3674\u001b[0m res \u001b[38;5;241m=\u001b[39m np\u001b[38;5;241m.\u001b[39mzeros(err\u001b[38;5;241m.\u001b[39mshape, dtype\u001b[38;5;241m=\u001b[39m\u001b[38;5;28mbool\u001b[39m)  \u001b[38;5;66;03m# Default in case of nan\u001b[39;00m\n\u001b[1;32m   3675\u001b[0m \u001b[38;5;28;01mif\u001b[39;00m np\u001b[38;5;241m.\u001b[39many(np\u001b[38;5;241m.\u001b[39mless(err, \u001b[38;5;241m-\u001b[39merr, out\u001b[38;5;241m=\u001b[39mres, where\u001b[38;5;241m=\u001b[39m(err \u001b[38;5;241m==\u001b[39m err))):\n\u001b[1;32m   3676\u001b[0m     \u001b[38;5;66;03m# like err<0, but also works for timedelta and nan.\u001b[39;00m\n",
      "\u001b[0;31mValueError\u001b[0m: 'yerr' (shape: (10,)) must be a scalar or a 1D or (2, n) array-like whose shape matches 'y' (shape: (8,))"
     ]
    },
    {
     "data": {
      "image/png": "[encoded data removed]",
      "text/plain": [
       "<Figure size 1800x500 with 3 Axes>"
      ]
     },
     "metadata": {},
     "output_type": "display_data"
    }
   ],
   "source": [
    "plot_metric_list = [\"param_est_rel_err\",\"shd\",\"avg_js\"]\n",
    "\n",
    "\n",
    "plt.rcParams['figure.figsize'] = [6*len(plot_metric_list),5]\n",
    "fig,ax = plt.subplots(nrows=1,ncols=len(plot_metric_list))\n",
    "\n",
    "'''\n",
    "Expt LOG: Tracks changes that happened corresponding to last experiment state\n",
    "expt_logs_29.04.24-2 : with max-stegngth = 10, 30-50 random runs,init noise mean=1.0, new noise mean=10.0\n",
    "expt_logs_29.04.24-3 : with max-stegngth = 20, 10 random runs\n",
    "expt_logs_29.04.24-4 : with max-stegngth = 30\n",
    "expt_logs_29.04.24-5 : with max-stegngth = 1 (better)\n",
    "expt_logs_29.04.24-6 : with max-stegngth = 1, lowlim = 0.2*max-strength, (4,6,8 nodes) (better) \n",
    "expt_logs_29.04.24-7 : with max-stegngth = 1, lowlim = 0.5*max-strength, (slightly worse for 6, but JS good)\n",
    "expt_logs_29.04.24-8 : with max-stegngth = 10, lowlim = 0.5*max-strength,\n",
    "expt_logs_29.04.24-9 : with max-stegngth = 1, lowlim = 0.5*max-strength, no relative error now,\n",
    "expt_logs_29.04.24-10 : with max-stegngth = 1, lowlim = 0.5*max-strength, init noise mean=0.0\n",
    "expt_logs_29.04.24-11 : with max-stegngth = 1, lowlim = 0.5*max-strength, new noise mean=1.0\n",
    "\n",
    "Ideas:\n",
    "1. Relative error might be creating problem. What if we remove relative atleast and see absolute or change mean\n",
    "'''\n",
    "expt_fpath_list= [\"expt_logs_29.04.24-9/\",]\n",
    "expt_df = merge_df_multiple_expt(expt_fpath_list)\n",
    "\n",
    "\n",
    "for num_node,node_df in expt_df.groupby([\"num_nodes\"]):\n",
    "    \n",
    "    #Getting the mean and std for this dataframe\n",
    "    node_df_mean = node_df.groupby(\"num_samples\").mean()\n",
    "    node_df_std = node_df.groupby(\"num_samples\").std()\n",
    "    node_df_q25 = node_df.groupby(\"num_samples\").aggregate(quantile25)\n",
    "    node_df_q75 = node_df.groupby(\"num_samples\").aggregate(quantile75)\n",
    "    \n",
    "    \n",
    "    #Now plotting the variation across samples for each of the param\n",
    "    for midx,metric in enumerate(plot_metric_list):\n",
    "        sample_size = list(node_df_mean.index)\n",
    "        metric_mean = np.array(node_df_mean[metric].tolist())\n",
    "        metric_std = np.array(node_df_std[metric].tolist())\n",
    "        \n",
    "        low_yerr = metric_mean - np.array(node_df_q25[metric].tolist())\n",
    "        high_yerr = np.array(node_df_q75[metric].tolist())-metric_mean\n",
    "        #mean should have been above 25 and below 75, something might be wrong\n",
    "        q25_75 = [\n",
    "                    low_yerr,*(low_yerr>=0), \n",
    "                    high_yerr*(high_yerr>=0)\n",
    "        ]\n",
    "        \n",
    "        \n",
    "        #ax[midx].plot(range(len(sample_size)),metric_mean,)\n",
    "        ax[midx].errorbar(range(len(sample_size)),\n",
    "                              metric_mean,\n",
    "                              yerr=q25_75,\n",
    "                              capsize=3,\n",
    "                              ecolor = \"black\",\n",
    "                              fmt=\"-o\",\n",
    "                              label=\"num_nodes={}\".format(num_node)\n",
    "        )\n",
    "        \n",
    "        ax[midx].set_title(\"Metric = {}\".format(metric))\n",
    "        ax[midx].set_ylabel(metric)\n",
    "        ax[midx].set_xlabel(\"sample size\")\n",
    "        ax[midx].set_xticks(range(len(sample_size)))\n",
    "        ax[midx].set_xticklabels(sample_size)\n",
    "        ax[midx].legend()\n",
    "        ax[midx].grid(True)\n",
    "        \n",
    "plt.plot()"
   ]
  },
  {
   "cell_type": "code",
   "execution_count": null,
   "id": "aec9f8ab",
   "metadata": {},
   "outputs": [],
   "source": []
  }
 ],
 "metadata": {
  "kernelspec": {
   "display_name": "Python [conda env:mixture] *",
   "language": "python",
   "name": "conda-env-mixture-py"
  },
  "language_info": {
   "codemirror_mode": {
    "name": "ipython",
    "version": 3
   },
   "file_extension": ".py",
   "mimetype": "text/x-python",
   "name": "python",
   "nbconvert_exporter": "python",
   "pygments_lexer": "ipython3",
   "version": "3.9.19"
  }
 },
 "nbformat": 4,
 "nbformat_minor": 5
}
